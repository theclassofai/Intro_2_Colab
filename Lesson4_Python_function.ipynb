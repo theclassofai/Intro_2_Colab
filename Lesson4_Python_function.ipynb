{
  "nbformat": 4,
  "nbformat_minor": 0,
  "metadata": {
    "colab": {
      "name": "Lesson4_Python_function.ipynb",
      "provenance": [],
      "collapsed_sections": [],
      "include_colab_link": true
    },
    "kernelspec": {
      "name": "python3",
      "display_name": "Python 3"
    }
  },
  "cells": [
    {
      "cell_type": "markdown",
      "metadata": {
        "id": "view-in-github",
        "colab_type": "text"
      },
      "source": [
        "<a href=\"https://colab.research.google.com/github/theclassofai/Intro_2_Colab_Python/blob/master/Lesson4_Python_function.ipynb\" target=\"_parent\"><img src=\"https://colab.research.google.com/assets/colab-badge.svg\" alt=\"Open In Colab\"/></a>"
      ]
    },
    {
      "cell_type": "markdown",
      "metadata": {
        "id": "Pvnl-qUqpGoe"
      },
      "source": [
        "# Welcome to The Class of AI\n",
        "---\n"
      ]
    },
    {
      "cell_type": "markdown",
      "metadata": {
        "id": "EBo74OAnZk-a"
      },
      "source": [
        "## Functions\n",
        "\n",
        "A function is a block of code which only runs when it is called. You can pass data, known as parameters, into a function. A function can return data as a result.\n"
      ]
    },
    {
      "cell_type": "code",
      "metadata": {
        "id": "qvM4PyiLX4XG"
      },
      "source": [
        "def greet_user():\n",
        " print(\"Hello! Welcome to The Class of AI\")\n",
        " print(\"It is nice meeting you.\")\n"
      ],
      "execution_count": null,
      "outputs": []
    },
    {
      "cell_type": "code",
      "metadata": {
        "id": "vQWniLNv6_qW",
        "colab": {
          "base_uri": "https://localhost:8080/",
          "height": 34
        },
        "outputId": "848f049d-d1f0-4cbb-d1cc-4ed9e15595f6"
      },
      "source": [
        "greet_user()"
      ],
      "execution_count": null,
      "outputs": [
        {
          "output_type": "stream",
          "text": [
            "Hello! Welcome to The Class of AI\n"
          ],
          "name": "stdout"
        }
      ]
    },
    {
      "cell_type": "code",
      "metadata": {
        "id": "Wburqr_B694w",
        "colab": {
          "base_uri": "https://localhost:8080/",
          "height": 51
        },
        "outputId": "93f749ce-196c-40e8-89ce-3a32174e4ee0"
      },
      "source": [
        "greet_user()\n",
        "greet_user()"
      ],
      "execution_count": null,
      "outputs": [
        {
          "output_type": "stream",
          "text": [
            "Hello! Welcome to The Class of AI\n",
            "Hello! Welcome to The Class of AI\n"
          ],
          "name": "stdout"
        }
      ]
    },
    {
      "cell_type": "markdown",
      "metadata": {
        "id": "8mjhzbOYb73R"
      },
      "source": [
        "#### Passing parameters to function\n",
        "\n",
        "* Information can be passed to functions as parameter. \n",
        "* Parameters are specified after the function name, inside the parentheses. \n",
        "* Add as many parameters as you want, just separate them with a comma."
      ]
    },
    {
      "cell_type": "code",
      "metadata": {
        "id": "7FqelWQ4cP3X",
        "colab": {
          "base_uri": "https://localhost:8080/",
          "height": 68
        },
        "outputId": "3d2c5dae-1c52-42eb-9441-dd4ed99869c3"
      },
      "source": [
        "def welcometoai(fname):\n",
        "  print(\" Welcome \"+ fname + \" to The Class of AI!\" )\n",
        "\n",
        "welcometoai(\"Adam\")\n",
        "welcometoai(\"Ali\")\n",
        "welcometoai(\"Krishna\")"
      ],
      "execution_count": null,
      "outputs": [
        {
          "output_type": "stream",
          "text": [
            " Welcome Adam to The Class of AI!\n",
            " Welcome Ali to The Class of AI!\n",
            " Welcome Krishna to The Class of AI!\n"
          ],
          "name": "stdout"
        }
      ]
    },
    {
      "cell_type": "markdown",
      "metadata": {
        "id": "Yk9sJZH6c91O"
      },
      "source": [
        "#### Default Parameter Value\n",
        "If we call the function without parameter, it uses the default value:"
      ]
    },
    {
      "cell_type": "code",
      "metadata": {
        "id": "-i1g3wbqdG6z",
        "colab": {
          "base_uri": "https://localhost:8080/",
          "height": 85
        },
        "outputId": "d6864ea6-2a1b-45c3-99e4-9517b70c18c3"
      },
      "source": [
        "def wholovescricket(country = \"England\"):\n",
        "  print(country + \" Loves playing Cricket\" )\n",
        "\n",
        "wholovescricket(\"India\")\n",
        "wholovescricket(\"Pakistan\")\n",
        "wholovescricket()\n",
        "wholovescricket(\"Australia\")"
      ],
      "execution_count": null,
      "outputs": [
        {
          "output_type": "stream",
          "text": [
            "India Loves playing Cricket\n",
            "Pakistan Loves playing Cricket\n",
            "England Loves playing Cricket\n",
            "Australia Loves playing Cricket\n"
          ],
          "name": "stdout"
        }
      ]
    },
    {
      "cell_type": "markdown",
      "metadata": {
        "id": "SZzsTxgYeIRj"
      },
      "source": [
        "#### Passing a List as a Parameter\n",
        "\n",
        "You can send any data types of parameter to a function (string, number, list, dictionary etc.), and it will be treated as the same data type inside the function.\n",
        "\n",
        "E.g. if you send a List as a parameter, it will still be a List when it reaches the function:"
      ]
    },
    {
      "cell_type": "code",
      "metadata": {
        "id": "yfR_haOZeHeZ",
        "colab": {
          "base_uri": "https://localhost:8080/",
          "height": 102
        },
        "outputId": "523a0867-bbb7-4daf-c9ef-4b0a526a3ec5"
      },
      "source": [
        "def mycar(cars):\n",
        "  for car in cars:\n",
        "    print(car)\n",
        "\n",
        "cars = [\"bmw\", \"audi\", \"toyota\", \"merc\", \"nissan\"]\n",
        "\n",
        "mycar(cars)"
      ],
      "execution_count": null,
      "outputs": [
        {
          "output_type": "stream",
          "text": [
            "bmw\n",
            "audi\n",
            "toyota\n",
            "merc\n",
            "nissan\n"
          ],
          "name": "stdout"
        }
      ]
    },
    {
      "cell_type": "markdown",
      "metadata": {
        "id": "u-E-afuFesTO"
      },
      "source": [
        "#### Return Values\n",
        "\n",
        "To let a function return a value, use the return statement:"
      ]
    },
    {
      "cell_type": "code",
      "metadata": {
        "id": "7wDx3awQewcC",
        "colab": {
          "base_uri": "https://localhost:8080/",
          "height": 68
        },
        "outputId": "8c9082ad-3c08-472c-a148-02575e94d634"
      },
      "source": [
        "def mypower(x):\n",
        "  return x**2\n",
        "\n",
        "print(mypower(3))\n",
        "print(mypower(5))\n",
        "print(mypower(9))"
      ],
      "execution_count": null,
      "outputs": [
        {
          "output_type": "stream",
          "text": [
            "9\n",
            "25\n",
            "81\n"
          ],
          "name": "stdout"
        }
      ]
    },
    {
      "cell_type": "markdown",
      "metadata": {
        "id": "JIV9soizgldX"
      },
      "source": [
        "#### Keyword Arguments\n",
        "\n",
        "You can also send arguments with the key = value syntax.\n",
        "This way the order of the arguments does not matter."
      ]
    },
    {
      "cell_type": "code",
      "metadata": {
        "id": "7Ff37CvKgjtm",
        "colab": {
          "base_uri": "https://localhost:8080/",
          "height": 34
        },
        "outputId": "19dee306-7b54-46c5-c6a7-2c4898fc55ba"
      },
      "source": [
        "def myfavcar(car1, car2, car3):\n",
        "  print(\"My fav car is \" + car2)\n",
        "\n",
        "myfavcar(car1 = \"audi\", car3 = \"bmw\", car2 = \"toyota\")"
      ],
      "execution_count": null,
      "outputs": [
        {
          "output_type": "stream",
          "text": [
            "My fav car is toyota\n"
          ],
          "name": "stdout"
        }
      ]
    },
    {
      "cell_type": "markdown",
      "metadata": {
        "id": "5TGzdalohJjW"
      },
      "source": [
        "#### Arbitrary Arguments\n",
        "\n",
        "If you do not know how many arguments that will be passed into your function, add a * before the parameter name in the function definition. This way the function will receive a tuple of arguments, and can access the items accordingly:"
      ]
    },
    {
      "cell_type": "code",
      "metadata": {
        "id": "KX5A9RrqhPFI",
        "colab": {
          "base_uri": "https://localhost:8080/",
          "height": 34
        },
        "outputId": "974b4ac4-eab3-495f-aacb-7df45bdeba0a"
      },
      "source": [
        "def myfavcar(*cars):\n",
        "  print(\"My fav car is \" + cars[3])\n",
        "\n",
        "myfavcar(\"audi\", \"bmw\", \"toyota\", \"merc\")\n"
      ],
      "execution_count": null,
      "outputs": [
        {
          "output_type": "stream",
          "text": [
            "My fav car is merc\n"
          ],
          "name": "stdout"
        }
      ]
    }
  ]
}